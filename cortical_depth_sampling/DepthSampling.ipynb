{
    "bvnbformat": 1,
    "bvnbformat_minor": 0,
    "cells": [
        {
            "cell_type": "code",
            "execution_count": 686,
            "metadata": {},
            "outputs": [],
            "source": [
                "from glob import glob\n",
                "\n",
                "import BVClient\n",
                "bvc = BVClient(port=5555)"
            ]
        },
        {
            "cell_type": "markdown",
            "metadata": {},
            "source": [
                "# Cortical Depth Sampling"
            ]
        },
        {
            "cell_type": "code",
            "execution_count": null,
            "metadata": {},
            "outputs": [],
            "source": [
                "subject = 'sub_001'\n",
                "vmr_filename = f'/path/to/{subject}.vmr'\n",
                "print(f'openning subject {subject} anatomical')\n",
                "\n",
                "# unload all\n",
                "bvc.close_all()\n",
                "doc = bv.open(vmr_filename)"
            ]
        },
        {
            "cell_type": "code",
            "execution_count": null,
            "metadata": {},
            "outputs": [],
            "source": [
                "print(f'loading vmp...')\n",
                "vmp_filename = f'sub_01.vmp'\n",
                "doc.load_maps(vmp_filename)\n",
                "doc.show_map(0)\n",
                "\n",
                "\n",
                "for depth_mesh in glob(f'sub_*.srf'):\n",
                "    # load srf\n",
                "    print(f'openning surface mesh {depth_mesh}')\n",
                "    doc.load_mesh(depth_mesh)\n",
                "    # check if file was created\n",
                "    mesh_map_prefix = depth_mesh.split('_')[-1].split('srf')[0][:-1]\n",
                "    smp_filename = f'filename.smp'\n",
                "    if os.path.exists(smp_filename):\n",
                "        print(f'file {mesh_map_prefix} already exists, skipping...')\n",
                "        continue\n",
                "    print(f'creating map...')\n",
                "    mesh = doc.current_mesh\n",
                "    print(f'mesh selected')\n",
                "    interpolation_method=1\n",
                "    #sample_only_nonzero_values=True\n",
                "    sample_only_nonzero_values=False\n",
                "    mesh.create_map_from_volume_map(interpolation_method, sample_only_nonzero_values)\n",
                "    # save smp\n",
                "    print(f'saving smp as {smp_filename}')\n",
                "    mesh.save_maps(smp_filename)\n",
                "    del mesh\n",
                "# save state for finished subject/condition\n",
                "doc.close()\n",
                "del doc"
            ]
        }
    ],
    "log_brainvoyager_code": false,
    "metadata": {
        "language_info": {
            "name": "python"
        }
    },
    "nbformat": 4,
    "nbformat_minor": 2
}
